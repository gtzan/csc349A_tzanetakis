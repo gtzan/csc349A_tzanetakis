{
  "nbformat": 4,
  "nbformat_minor": 0,
  "metadata": {
    "colab": {
      "provenance": [],
      "authorship_tag": "ABX9TyO/HyuSyJfo0on7yZI5gafB",
      "include_colab_link": true
    },
    "kernelspec": {
      "name": "python3",
      "display_name": "Python 3"
    },
    "language_info": {
      "name": "python"
    }
  },
  "cells": [
    {
      "cell_type": "markdown",
      "metadata": {
        "id": "view-in-github",
        "colab_type": "text"
      },
      "source": [
        "<a href=\"https://colab.research.google.com/github/gtzan/csc349A_tzanetakis/blob/main/notebooks/csc349a_stability_condition.ipynb\" target=\"_parent\"><img src=\"https://colab.research.google.com/assets/colab-badge.svg\" alt=\"Open In Colab\"/></a>"
      ]
    },
    {
      "cell_type": "markdown",
      "source": [
        "# Stability and Condition\n",
        "\n",
        "In analyzing the effects of errors in a computation to solve\n",
        "a problem, the concepts of **stability** and **condition** distinguish\n",
        "between whether the algorithm (the procedure for computing a solution\n",
        "to the problem) is satisfactory, or if the problem is such that no\n",
        "algorithm can be expected to reasonably solve the problem. The\n",
        "concepts involved are: **stable/unstable algorithm** and **well-conditioned/ill-conditioned problem**.\n",
        "\n",
        "\n",
        "**Definition:** A problem whose (exact) solution can change greatly with small changes in the data defining the problem is called **ill-conditioned**.\n",
        "Suppose that for the original problem we have using exact arithmetic :\n",
        "$$\n",
        "\\mbox{data} \\;\\;\\; \\{d_i\\} \\rightarrow  \\;\\;\\; \\mbox{exact solution} \\{r_i\\}\n",
        "$$\n",
        "and we create a perturbed problem also using exact arithmetic:\n",
        "$$\n",
        "\\mbox{data} \\;\\;\\; \\{\\hat d_i\\}=\\{d_i+\\varepsilon_i\\} \\rightarrow \\;\\;\\; \\mbox{exact solution} \\{\\hat r_i\\}\n",
        "$$\n",
        "where $|\\frac{\\varepsilon_i}{d_i}|$ is small.\n",
        "\n",
        "If there exist small $\\varepsilon_i$ such that $\\{ \\hat r_i \\}$ are not close to\n",
        "$\\{ r_i \\}$, then the problem is **ill-conditioned**.  \n",
        "\n",
        "If $\\{\\hat r_i\\} \\approx \\{ r_i \\}$ for {\\bf all} small $\\varepsilon_i$, then the problem is **well-conditioned**.\n",
        "\n",
        "\n",
        "Note: The condition of a problem has nothing to do with floating-point arithmetic or round-off error; it is defined in terms of exact computation. However, if a problem ill-conditioned, it will be difficult (or impossible) to solve accurately using floating-point arithmetic.\n",
        "\n",
        "\n"
      ],
      "metadata": {
        "id": "qSfb7PQMbb1a"
      }
    },
    {
      "cell_type": "markdown",
      "source": [
        "# Example 1\n",
        "Suppose we want to solve $y=\\frac{x}{1-x}$ for values of $x$ near 1.\n",
        "\n",
        "For example, if $x=0.93$ then $y=\\frac{0.93}{1-0.93}=13.2857\\cdots$.\n",
        "\n",
        "Now, let the perturbed data be $\\hat{x}=0.94$. Here, we get $\\hat{y}=\\frac{0.94}{1-0.94}=15.666\\cdots$.\n",
        "\n",
        "The relative error from the perturbation is given by $\\frac{|x-\\hat{x}|}{|x|}=0.01075\\cdots$ which is roughly $1\\%$.\n",
        "\n",
        "On the other hand, the relative error in the results is $\\frac{|13.2857-15.6666|}{|13.2857|}=0.1792\\cdots$ or about $18\\%$. So, this problem is considered to be ill-conditioned.\n",
        "\n",
        "Now, do the same for $x=-0.93$ and $\\hat{x}=-0.94$. Here, we get $y=-0.4818\\cdots$ and $\\hat{y}=-0.4845\\cdots$, which is a relative difference of $0.00560\\cdots$. For this data the problem does not prove to be ill-contitioned although this is only one value of $\\varepsilon$ it is in fact well-conditioned for this $x$. We will see this in a little bit."
      ],
      "metadata": {
        "id": "85tWRrEYcMBl"
      }
    },
    {
      "cell_type": "code",
      "source": [
        "import numpy as np\n",
        "def f(x):\n",
        "    return x/(1-x)\n",
        "\n",
        "def rel_error(p,pstar):\n",
        "    return np.abs(p-pstar)/np.abs(p)\n",
        "\n",
        "x = 0.93\n",
        "xp = 0.94\n",
        "y = f(x)\n",
        "yp = f(xp)\n",
        "print(y)\n",
        "print(yp)\n",
        "print(rel_error(x,xp))\n",
        "print(rel_error(y,yp))\n",
        "\n",
        "\n",
        "x = -0.93\n",
        "xp = -0.94\n",
        "y = f(x)\n",
        "yp = f(xp)\n",
        "print(y)\n",
        "print(yp)\n",
        "print(rel_error(x,xp))\n",
        "print(rel_error(y,yp))\n",
        "\n",
        "\n"
      ],
      "metadata": {
        "colab": {
          "base_uri": "https://localhost:8080/"
        },
        "id": "f5yjCr-GbkSK",
        "outputId": "bb0e0ec3-7b70-4544-eab4-63a87238fa97"
      },
      "execution_count": 8,
      "outputs": [
        {
          "output_type": "stream",
          "name": "stdout",
          "text": [
            "13.285714285714295\n",
            "15.666666666666652\n",
            "0.0107526881720429\n",
            "0.1792114695340482\n",
            "-0.48186528497409326\n",
            "-0.4845360824742268\n",
            "0.0107526881720429\n",
            "0.005542622769094353\n"
          ]
        }
      ]
    },
    {
      "cell_type": "markdown",
      "source": [
        "# Condition Number\n",
        "The **condition number** is another approach to analyzing the\n",
        "condition of a problem if the first derivative of the quantity $f(x)$ being computed can be determined. By the Taylor polynomial approximation of order $n=1$ for $f(x)$ expanded around $\\tilde x$ we have:\n",
        "\n",
        "$$\n",
        "f(x) \\approx f(\\tilde x) + f'(\\tilde x)(x - \\tilde x)\n",
        "$$\n",
        "\\noindent\n",
        "which implies that:  \n",
        "$$\n",
        "  \\frac{f(x) - f(\\tilde x)}{f(\\tilde x)} \\approx \\frac{\\tilde x f'( \\tilde x)}{f(\\tilde x)} \\left( \\frac{x-\\tilde x}{\\tilde x} \\right)\n",
        "$$\n",
        "\n",
        "If $\\tilde x$ is some small pertubation os x, then the left hand side above is the {\\it relative change} in $f(x)$ as $x$ is perturbed to $\\tilde x$. Thus,\n",
        "$$\n",
        "\\mbox{relative change in } f(x) \\approx \\left( \\frac{\\tilde xf'(\\tilde x)}{f(\\tilde x)} \\right) \\times \\;\\; \\mbox{relative change in } x\n",
        "$$\n",
        "\n",
        "The quantity $\\frac{\\tilde xf'(\\tilde x)}{f(\\tilde x)}$ is called a {\\bf condition number} for the computation of $f(x)$. If this number is **large**, then $f(x)$ is ill-conditioned; if this number is **small**, then $f(x)$ is well-conditioned.\n",
        "\n",
        "## Example 1 revisited\n",
        "\n",
        "Recall, $f(x)=\\frac{x}{1-x}$ and so $f'(x)=\\frac{1}{(1-x)^2}$. Thus,\n",
        "\n",
        "$$\n",
        "\\frac{xf'(x)}{f(x)}=\\frac{x/(1-x)^2}{x/(1-x)}=\\frac{1}{1-x}\n",
        "$$\n",
        "\n",
        "Therefore, when $x=0.93$, the condition number is $\\frac{1}{1-0.93}=14.2857\\cdots$ which greater than 1 and thus ill-conditioned. On the other hand, when $x=-0.93$, then the condtion number is $\\frac{1}{1+0.93}=0.5181\\cdots$ which less than 1 and thus well-conditioned. These results are consistent with our analysis above.\n"
      ],
      "metadata": {
        "id": "anY_jlmWdxTU"
      }
    },
    {
      "cell_type": "markdown",
      "source": [
        "## Stability of an algorithm\n",
        "\n",
        "A computation is **numerically unstable** if the uncertainty of the input values is greatly magnified by the numerical method.\n",
        "\n",
        "**Definition:** An algorithm is said to be **stable** (for a class\n",
        "of problems) if it determines a computed solution (using\n",
        "floating-point arithmetic) that is close to the exact solution of some\n",
        "(small) perturbation of the given problem.\n",
        "\n",
        "Suppose that for the original problem we have using floating-point computation:\n",
        "$$\n",
        "\\mbox{data} \\;\\;\\; \\{d_i\\} \\rightarrow  \\;\\;\\; \\mbox{computed solution} \\{r_i\\}\n",
        "$$\n",
        "and we create a perturbed problem using exact computation:\n",
        "$$\n",
        "\\mbox{data} \\;\\;\\; \\{\\hat d_i\\}=\\{d_i+\\varepsilon_i\\} \\rightarrow \\;\\;\\; \\mbox{exact solution} \\{\\hat r_i\\}\n",
        "$$\n",
        "\\noindent\n",
        "where $|\\frac{\\varepsilon_i}{d_i}|$ is small.\n",
        "\n",
        "If there exist data $\\hat d_i \\approx d_i$ (small $\\varepsilon_i$ for all $i$) such that $\\hat r_i \\approx r_i$ for all $i$, then the algorithm is said to be **stable**.\n",
        "\n",
        "If there exists **no set** of data $\\{ \\hat d_i\\}$ close to $\\{ d_i \\}$ such that $\\hat r_i \\approx r_i$ for all $i$, then the algorithm is said to be **unstable**.\n",
        "\n",
        "**Meaning of numerical stability:** the effect of uncertainty in the input data or of the floating-point artihmetic (the round-off error) is no worse that the effect of slightly perturbing the given problem, and solving the perturbed problem exactly.\n"
      ],
      "metadata": {
        "id": "OEC79ILbeIZ4"
      }
    },
    {
      "cell_type": "markdown",
      "source": [
        "# Example: Condition of a Linear System\n"
      ],
      "metadata": {
        "id": "rC8KnXcvmarz"
      }
    },
    {
      "cell_type": "code",
      "source": [
        "import numpy as np\n",
        "\n",
        "# Define the coefficient matrix A\n",
        "H = np.array([[1.0, 1.0/2.0,   1.0/3.0],\n",
        "              [1.0/2.0,1.0/3.0,  1.0/4.0],\n",
        "              [1.0/3.0, 1.0/4.0, 1.0/5.0]])\n",
        "\n",
        "\n",
        "# Define the constant vector B\n",
        "B = np.array([11.0/6.0, 13.0/12.0, 47.0/60.0])\n",
        "\n",
        "# Solve the linear system\n",
        "x = np.linalg.solve(H, B)\n",
        "\n",
        "print(\"Solution x:\", x)\n",
        "\n",
        "Hp = np.array([[1.0, 1.0/2.0,   0.333],\n",
        "              [1.0/2.0, 0.333, 1.0/4.0],\n",
        "              [0.333, 1.0/4.0, 1.0/5.0]])\n",
        "\n",
        "Bp = np.array([1.83, 1.08, 0.783])\n",
        "\n",
        "xp = np.linalg.solve(Hp, Bp)\n",
        "print(\"Solution xp:\", xp)\n",
        "\n"
      ],
      "metadata": {
        "colab": {
          "base_uri": "https://localhost:8080/"
        },
        "id": "9qCcInKHmdnL",
        "outputId": "3eca7c1f-3862-47ce-d49d-fd85d3fa4f7c"
      },
      "execution_count": 17,
      "outputs": [
        {
          "output_type": "stream",
          "name": "stdout",
          "text": [
            "Solution x: [1. 1. 1.]\n",
            "Solution xp: [1.08951253 0.48796711 1.49100275]\n"
          ]
        }
      ]
    },
    {
      "cell_type": "code",
      "source": [],
      "metadata": {
        "id": "XpM456MboODv"
      },
      "execution_count": null,
      "outputs": []
    }
  ]
}