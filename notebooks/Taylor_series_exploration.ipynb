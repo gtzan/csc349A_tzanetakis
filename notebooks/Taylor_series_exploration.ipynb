{
  "nbformat": 4,
  "nbformat_minor": 0,
  "metadata": {
    "colab": {
      "provenance": [],
      "authorship_tag": "ABX9TyPSrP5YhQ0Odtd690il5CVy",
      "include_colab_link": true
    },
    "kernelspec": {
      "name": "python3",
      "display_name": "Python 3"
    },
    "language_info": {
      "name": "python"
    }
  },
  "cells": [
    {
      "cell_type": "markdown",
      "metadata": {
        "id": "view-in-github",
        "colab_type": "text"
      },
      "source": [
        "<a href=\"https://colab.research.google.com/github/gtzan/csc349A_tzanetakis/blob/main/notebooks/Taylor_series_exploration.ipynb\" target=\"_parent\"><img src=\"https://colab.research.google.com/assets/colab-badge.svg\" alt=\"Open In Colab\"/></a>"
      ]
    },
    {
      "cell_type": "code",
      "execution_count": null,
      "metadata": {
        "id": "LQxMvB3AH72m"
      },
      "outputs": [],
      "source": []
    },
    {
      "cell_type": "markdown",
      "source": [
        "# Taylor's Theorem\n",
        "\n",
        "Let $n \\geq 0$ and let $a$ be any constant. If $f(x)$ and its first $n+1$ derivatives are continuous on some interval containing $x$ and $a$, then:\n",
        "\n",
        "$$\n",
        " f(x) = f(a) + f'(a)(x-a) + \\frac{f''(a)}{2!}(x-a)^2 + \\frac{f'''(a)}{3!}(x-a)^3 + \\dots + \\frac{f^{n}(a)}{n!}(x-a)^{n} + R_n\n",
        "$$\n",
        "where the remainder (or error) term is:\n",
        "$$\n",
        "R_{n} = \\frac{f^{(n+1)}(\\xi)}{(n+1)!} (x-a)^{n+1}\n",
        "$$\n",
        "and $\\xi$ is some value between $x$ and $a$. Note that:\n",
        "\n",
        "$$\n",
        "P_n(x) = f(a) + f'(a)(x-a) + \\frac{f''(a)}{2!}(x-a)^2 + \\frac{f'''(a)}{3!}(x-a)^3 + \\dots + \\frac{f^{n}(a)}{n!}(x-a)^{n}\n",
        "$$\n",
        "is a polynomial of degree $n$ in $x$, and is called the **Taylor polynomial approximation of degree n** for $f(x)$ expanded around $a$. $R_{n}$ is the **truncation error** of this polynomial approximation to $f(x)$.  \n",
        "\n"
      ],
      "metadata": {
        "id": "TCmdwhh-XkpD"
      }
    },
    {
      "cell_type": "markdown",
      "source": [
        "# Taylor Series Example 1\n",
        "\n",
        "\n",
        "\n",
        "Let's consider the function $f(n) = ln(x+1)$. Use a Taylor series to expand this function about $\\alpha = 0$ using $n=3$ terms.\n",
        "\n"
      ],
      "metadata": {
        "id": "UNjybuLPIOHi"
      }
    },
    {
      "cell_type": "markdown",
      "source": [
        "Determine the Taylor polynomial approximation of order $n=3$ for\n",
        "$f(x) = \\ln(x+1)$ expanded about $a=0$ (McLaurin series when\n",
        "$a=0$).\n",
        "\n",
        "\\begin{eqnarray}\n",
        "f(x) =& \\ln(x+1), & f(0) = 0 \\\\\n",
        "f'(x) =& \\frac{1}{x+1}, & f'(0) = 1 \\\\\n",
        "f''(x) =& \\frac{-1}{(x+1)^2}, & f''(0) = -1 \\\\\n",
        "f'''(x) =& \\frac{2}{(x+1)^3}, & f'''(0) = 2 #\n",
        "\\end{eqnarray}\n",
        "\n",
        "Thus:\n",
        "\\begin{eqnarray*}\n",
        "\\ln(x+1) &=& f(a) + f'(a)(x-a) + \\frac{f''(a)}{2!}(x-a)^2 + \\frac{f'''(a)}{3!}(x-a)^3 + \\dots + \\frac{f^{n}(a)}{n!}(x-a)^{n} \\\\ &=&  \n",
        "f(0) + f'(0) + \\frac{f''(0)}{2} x^2 +\\frac{f'''(0)}{6}x^{3} \\\\\n",
        "&=&  x -\\frac{x^2}{2} + \\frac{x^3}{3}\n",
        "\\end{eqnarray*}\n"
      ],
      "metadata": {
        "id": "qGnXKa28YDS4"
      }
    },
    {
      "cell_type": "markdown",
      "source": [
        "# How accurate is this approximation ?\n",
        "\n",
        "\n",
        "Let $P_3(x) = x - \\frac{x^2}{2} + \\frac{x^{3}}{3}$. Since\n",
        "$f^{(4)} (x) = \\frac{-6}{(x+1)^4}$, for each value of $x$ there\n",
        "exists a value $\\xi$ such that:\n",
        "\n",
        "$$ \\ln(x+1) - P_{3}(x) = R_n = \\frac{f^{(4)}(\\xi)}{4!}x^4 = \\frac{-x^4}{4(\\xi +1)^4}\n",
        "$$\n",
        "\n",
        "where $\\xi$ is some number between $x$ and $a=0$.\n",
        "\n",
        "For example, if $x=0.25$ then\n",
        "$$\n",
        "ln(1.25) \\approx 0.25 - \\frac{(0.25)^2}{2} + \\frac{(0.25)^3}{3} = 0.223958333 \\dots\n",
        "$$\n",
        "and the trunaction error of this approximation is:\n",
        "$$\n",
        "R_3 = \\frac{-(0.25)^4}{4(\\xi+1)^4} = \\frac{-1}{1024(\\xi+1)^4}\n",
        "$$\n",
        "for some value of $\\xi$ such that $0\\leq \\xi \\leq 0.25$.\n",
        "\n",
        "It is not possible to determine the value of $\\xi$ that gives the exact\n",
        "value of $R_3$, but it is possible to determine an {\\bf upper bound} for\n",
        "this truncation error:\n",
        "\n",
        "$$\n",
        "|R_{3}| = \\left| \\frac{-1}{1024(\\xi_1)^4}\\right| \\leq \\frac{1}{1024(0+1)^4} = 0.0009765625\n",
        "$$\n",
        "\n",
        "This gives a guaranteed upper bound for the truncation error in the above approximation to $\\ln(1.25)$. Note that the actual (absolute) error is:\n",
        "\n",
        "$$\n",
        "|E_t| = |0.22314335 - 0.22395833| = 0.00081478\n",
        "$$\n",
        "\n",
        "Rather than just using the Taylor polynomial approximation to estimate the value of a function at one specified point, it is more common to use the polynomial approximation {\\bf for an entire interval of values x}. In such a case, it is also desirable to be able to determine the accuracy (that is an upper bound for the error). For example, suppose that\n",
        "\n",
        "$$\n",
        "\\ln(x+1) \\approx x - \\frac{x^2}{2} + \\frac{x^3}{3}\n",
        "$$\n",
        "\n",
        "for any value $x \\in [0, 0.5]$. Then for any value of $x \\in [0, 0.5]$,\n",
        "$$\n",
        "| \\ln(x+1) - P_3(x)| = \\left| \\frac{-x^4}{4(\\xi +1)^4} \\right | \\leq \\left | \\frac{(0.5)^4}{4(0+1)^4}\\right| = 0.015625\n",
        "$$\n",
        "since $\\max\\limits_{0 \\leq x \\leq 0.5} |x^4| = (0.5)^4$ and, as $\\xi$ lies between $0$ and $x$, $\\max\\limits_{0 \\leq \\xi \\leq 0.5} \\frac{1}{|(\\xi + 1)^4|} = 1$."
      ],
      "metadata": {
        "id": "8pfow1wcYKeJ"
      }
    },
    {
      "cell_type": "code",
      "source": [
        "import numpy as np\n",
        "import matplotlib.pyplot as plt\n",
        "\n",
        "\n",
        "x = np.arange(-1, 2.5, 0.05)\n",
        "fx = np.log(x+1)\n",
        "Px1 = x;\n",
        "Px2 = x - x**2/2;\n",
        "Px3 = x - x**2/2 + x**3/3;\n",
        "plt.plot(x,fx, label='ln(x+1)')\n",
        "plt.plot(x, Px1, 'r--', label='P1=x')\n",
        "plt.plot(x, Px2, 'g--', label='P2=x - x^2/2')\n",
        "plt.plot(x, Px3, 'b--')\n",
        "plt.legend()\n",
        "plt.show()"
      ],
      "metadata": {
        "colab": {
          "base_uri": "https://localhost:8080/",
          "height": 466
        },
        "id": "3BJZTI1fIap8",
        "outputId": "b198d88d-d97c-4a9f-d371-a1892b3d3a32"
      },
      "execution_count": 7,
      "outputs": [
        {
          "output_type": "stream",
          "name": "stderr",
          "text": [
            "/tmp/ipython-input-3987115103.py:6: RuntimeWarning: divide by zero encountered in log\n",
            "  fx = np.log(x+1)\n"
          ]
        },
        {
          "output_type": "display_data",
          "data": {
            "text/plain": [
              "<Figure size 640x480 with 1 Axes>"
            ],
            "image/png": "[encoded data removed]"
          },
          "metadata": {}
        }
      ]
    },
    {
      "cell_type": "code",
      "source": [],
      "metadata": {
        "id": "XjUmwec4IjsG"
      },
      "execution_count": null,
      "outputs": []
    },
    {
      "cell_type": "markdown",
      "source": [
        "# Taylor Example 2\n",
        "\n",
        "Let $x_{i+1} = x_{i} + h$ so that $h = x_{i+1} - x_{i}$. Then Taylor's theorem for $f(x)$ expanded about $x_{i}$, and evaluated at $x=x_{i+1}$ is:\n",
        "\n",
        "$$\n",
        "f(x_{i+1}) = f(x_i) + f'(x_i) h + \\frac{f''(x_i)}{2!}h^2 + \\frac{f'''(x_i)}{3!}h^3 + \\dots + \\frac{f^{n}(x_i)}{n!}h^n + R_{n}  \n",
        "$$\n",
        "\n",
        "\n",
        "Letting $n=1$, this gives\n",
        "$$\n",
        "f(x_{i+1}) = f(x_i) + f'(x_i) h + R_1\n",
        "$$\n",
        "\n",
        "which implies that:\n",
        "$$\n",
        "f'(x_i)  = \\frac{f(x_{i+1})-f(x_i)}{h}-\\frac{R_1}{h}\n",
        "$$\n",
        "where\n",
        "$$\n",
        "\\frac{R_1}{h} = \\frac{1}{h}\\frac{f''(\\xi)}{2} h^2 = \\frac{f''(\\xi)}{2} h\n",
        "$$\n",
        "This gives the first derivative approximation\n",
        "$$\n",
        "f'(x_i) \\approx \\frac{f(x_{i+1})-f(x_i)}{h}\n",
        "$$\n",
        "\\noindent\n",
        "that was used in Chapter 1; it also gives the trunaction error of this finite difference approximation to the derivative, namely $-\\frac{R_1}{h} = -\\frac{f''(\\xi)}{2}h$. As this is some constant times $h$, we say that this truncation er\n",
        "ror is $O(h)$.\n"
      ],
      "metadata": {
        "id": "zSv53hlfXFl9"
      }
    },
    {
      "cell_type": "markdown",
      "source": [],
      "metadata": {
        "id": "GlQ47V2EZVcC"
      }
    },
    {
      "cell_type": "markdown",
      "source": [
        "# Taylor Example 3\n",
        "\n",
        "The Taylor polynomial approximation for $f(x) = e^x$ expanded about $a=0$ is\n",
        "\n",
        "$$\n",
        "e^x \\approx 1 + x + \\frac{x^2}{2!} + \\frac{x^3}{3!} + \\dots + \\frac{x^n}{n!}\n",
        "$$\n",
        "It is clear from:\n",
        "$$\n",
        "R_n = \\frac{f^{(n+1)} (\\xi)}{(n+1)!}(x-a)^{n+1}\n",
        "$$\n",
        "\n",
        "that the truncation error of any Taylor polynomial approximation is small when $x$ is close to $a$ (note that $R_n=0$ when $x=a$) and will increase as $x$ gets further away from $a$. Also, as $n$ increases, the Taylor polynomial approximations become better and better approximations to $f(x)$, provided of course that $f^{(n+1)}(x)$ is bounded on some interval containing $x$ and $a$.\n",
        "\n",
        "# Additional material\n",
        "In addition to the material in the handouts I briefly mentioned that\n",
        "there is an alternative form for the remainder $R_n$ which can also be\n",
        "defined as:\n",
        "\n",
        "\\begin{equation}\n",
        "R_n = \\int^{x}_{a} \\frac{(x-t)^n}{n!} f^{(n+1)}(t)dt\n",
        "\\end{equation}\n",
        "\n",
        "\n",
        "This form is called the {\\it integral form}. The form we covered in\n",
        "class with the unkown value $\\xi$ is referred to as the {\\it\n",
        "  derivative} or {\\it Lagrange form} of the remainder named after the\n",
        "famous mathematician {\\it Joseph-Louis Lagrange (1736-1813)} who\n",
        "characterized the remainder term and realized the fundamental\n",
        "importance of Taylor's theorem in calculus. The derivation is based on\n",
        "the first theorem of mean for integrals which states that if a\n",
        "function $f$ is continuous and integrable on an interval containing\n",
        "$\\alpha$ and $x$, then there exists a point $\\xi$ between $\\alpha$\n",
        "and $x$ such that:\n",
        "\n",
        "\\begin{equation}\n",
        "\\int_{\\alpha}^{x} g(t)dt = g(\\xi)(x-\\alpha)\n",
        "\\end{equation}\n"
      ],
      "metadata": {
        "id": "aZB41GJQZYgo"
      }
    },
    {
      "cell_type": "code",
      "source": [],
      "metadata": {
        "id": "gtp5KIUNZSfS"
      },
      "execution_count": null,
      "outputs": []
    }
  ]
}